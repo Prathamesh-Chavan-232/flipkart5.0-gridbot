{
 "cells": [
  {
   "cell_type": "markdown",
   "metadata": {},
   "source": [
    "*Methodologies*:\n",
    "\n",
    "1. detect corners, threshold it, then join the corners, then find the area (not working properly)\n",
    "\n",
    "2. use edge detection, clean it, then find the area"
   ]
  },
  {
   "cell_type": "code",
   "execution_count": null,
   "metadata": {},
   "outputs": [],
   "source": [
    "import cv2 as cv\n",
    "import numpy as np\n",
    "import matplotlib.pyplot as plt"
   ]
  },
  {
   "cell_type": "markdown",
   "metadata": {},
   "source": [
    "-------------*using corner detection*-------------"
   ]
  },
  {
   "cell_type": "code",
   "execution_count": null,
   "metadata": {},
   "outputs": [],
   "source": [
    "# Input image. It should be grayscale and float32 type.\n",
    "img=cv.imread(\"./cardboard.jpg\")\n",
    "gray = cv.cvtColor(img,cv.COLOR_BGR2GRAY)\n",
    "gray = np.float32(gray)"
   ]
  },
  {
   "cell_type": "code",
   "execution_count": null,
   "metadata": {},
   "outputs": [],
   "source": [
    "corners = cv.cornerHarris(gray,2,3,0.04)\n",
    "corner_img=img.copy()\n",
    "\n",
    "\n",
    "# Corner coordinates\n",
    "corner_coords = np.argwhere(corners > 0.01*corners.max())\n",
    "# print(len(corner_coords[0]))\n",
    "\n",
    "corner_img[corners > 0.05*corners.max()]=[0,0,255]\n",
    "\n",
    "font=cv.FONT_HERSHEY_SIMPLEX\n",
    "font_scale = 1\n",
    "font_color = (0, 255, 0)  # Green color in BGR\n",
    "font_thickness = 2\n",
    "\n",
    "# for i in range(len(corner_coords)):\n",
    "# cv.putText(corner_img, f\"{corner_coords[99]}\", corner_coords[99], font, font_scale, font_color, font_thickness)\n",
    "\n",
    "\n",
    "\n",
    "cv.imshow('corners_connected',corner_img)\n",
    "if cv.waitKey(0) & 0xff == 27:\n",
    " cv.destroyAllWindows()"
   ]
  },
  {
   "cell_type": "markdown",
   "metadata": {},
   "source": [
    "-------------*using edge detection*-------------"
   ]
  },
  {
   "cell_type": "code",
   "execution_count": null,
   "metadata": {},
   "outputs": [],
   "source": [
    "img=cv.imread(\"./cardboard.jpg\")\n",
    "gray = cv.cvtColor(img,cv.COLOR_BGR2GRAY)"
   ]
  },
  {
   "cell_type": "code",
   "execution_count": null,
   "metadata": {},
   "outputs": [],
   "source": [
    "# canny\n",
    "edges = cv.Canny(img,100,200)\n",
    "cv.imshow(\"canny\",edges)\n",
    "if cv.waitKey(0) & 0xff == 27:\n",
    " cv.destroyAllWindows()"
   ]
  },
  {
   "cell_type": "markdown",
   "metadata": {},
   "source": [
    "-------------*GrabCut*-------------"
   ]
  },
  {
   "cell_type": "code",
   "execution_count": null,
   "metadata": {},
   "outputs": [],
   "source": [
    "# Grabcut\n",
    "cv.namedWindow('Select ROI', cv.WINDOW_NORMAL | cv.WINDOW_KEEPRATIO | cv.WINDOW_GUI_EXPANDED) #to enable resizable window\n",
    "\n",
    "cv.destroyWindow('Select ROI')\n",
    "\n",
    "r = cv.selectROI(\"select the area\", img)  #top left + bottom right coordiantes\n",
    "  \n",
    "\n",
    "mask = np.zeros(img.shape[:2], np.uint8)\n",
    "background = np.zeros((1,65), np.float64)\n",
    "foreground = np.zeros((1,65), np.float64)\n",
    "\n",
    "# Run GrabCut to segment the object\n",
    "cv.grabCut(img, mask, r, background, foreground, 5, cv.GC_INIT_WITH_RECT)\n",
    "\n",
    "# Create a mask with the foreground pixels (1) and probable foreground pixels (3)\n",
    "mask2 = np.where((mask==1) + (mask==3), 255, 0).astype('uint8')\n",
    "result=cv.bitwise_and(img,img,mask=mask2)\n",
    "plt.imshow(result)\n",
    "cv.waitKey(0)\n",
    "cv.destroyAllWindows()"
   ]
  },
  {
   "cell_type": "markdown",
   "metadata": {},
   "source": [
    "-------------*YOLOv8n*-------------"
   ]
  },
  {
   "cell_type": "code",
   "execution_count": 16,
   "metadata": {},
   "outputs": [
    {
     "name": "stderr",
     "output_type": "stream",
     "text": [
      "\n",
      "0: 640x480 7 boxs, 69.7ms\n",
      "Speed: 0.0ms preprocess, 69.7ms inference, 0.0ms postprocess per image at shape (1, 3, 640, 480)\n"
     ]
    },
    {
     "data": {
      "text/plain": [
       "tensor(226.8830)"
      ]
     },
     "execution_count": 16,
     "metadata": {},
     "output_type": "execute_result"
    }
   ],
   "source": [
    "from ultralytics import YOLO\n",
    "# from ultralytics.utils.plotting import Annotator\n",
    "import cv2 as cv \n",
    "\n",
    "model = YOLO('./runs/detect/train/weights/best.pt')\n",
    "\n",
    "img = cv.imread('./cardboard.jpg')\n",
    "\n",
    "predict=model(img)\n"
   ]
  },
  {
   "cell_type": "code",
   "execution_count": 17,
   "metadata": {},
   "outputs": [],
   "source": [
    "for r in predict:\n",
    "    for box in r.boxes:\n",
    "        # print(int(box.xyxy[0][0].item()))\n",
    "        xy1=(int(box.xyxy[0][0].item()),int(box.xyxy[0][1].item()))\n",
    "        xy2=(int(box.xyxy[0][2].item()),int(box.xyxy[0][3].item())) \n",
    "        \n",
    "        cv.rectangle( img, xy1 , xy2 , (255,0,0), 2)\n",
    "        \n",
    "cv.imshow('result',img)\n",
    "cv.waitKey(0)\n",
    "cv.destroyAllWindows()"
   ]
  }
 ],
 "metadata": {
  "kernelspec": {
   "display_name": "base",
   "language": "python",
   "name": "python3"
  },
  "language_info": {
   "codemirror_mode": {
    "name": "ipython",
    "version": 3
   },
   "file_extension": ".py",
   "mimetype": "text/x-python",
   "name": "python",
   "nbconvert_exporter": "python",
   "pygments_lexer": "ipython3",
   "version": "3.11.5"
  },
  "orig_nbformat": 4
 },
 "nbformat": 4,
 "nbformat_minor": 2
}
